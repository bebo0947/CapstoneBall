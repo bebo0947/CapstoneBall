{
 "cells": [
  {
   "cell_type": "markdown",
   "id": "d987b259-8c79-488b-9a84-abfdc389c348",
   "metadata": {},
   "source": [
    "### Abdelrahman Alkhawas Sprint 2\n",
    "This is my sprint two notebook where I will be performing further EDA as well as some initial modelling. This notebook assumes that the user has access to `eeaao.csv` or has run the latest iteration of `webScraping1.py`."
   ]
  },
  {
   "cell_type": "code",
   "execution_count": null,
   "id": "d215859a-4a2e-4414-9755-5a91348f5eb2",
   "metadata": {},
   "outputs": [],
   "source": [
    "import pandas as pd\n",
    "import numpy as np\n",
    "import plotly as px\n",
    "import math\n",
    "import matplotlib.pyplot as plt\n",
    "from sklearn.preprocessing import StandardScaler\n",
    "from sklearn.model_selection import train_test_split\n",
    "from sklearn.linear_model import LogisticRegression"
   ]
  },
  {
   "cell_type": "markdown",
   "id": "af6abb24-be8d-4fec-b8f3-ff216dc833ed",
   "metadata": {},
   "source": [
    "Recall:\n",
    "<br>\n",
    "In our first iteration of EDA, we focused on trying to familiarize ourselves with the data, crreating basic plots and looking at how stats outlined similarities and differences between top players. \n",
    "<br><br>\n",
    "For my first exploration of this model, Id like to create a function that (for now) takes in a players age and position (in the future, potentially also nation, and historical data), and tries to predict their upcoming seasons minutes played ('bulletproof-ness')"
   ]
  },
  {
   "cell_type": "code",
   "execution_count": null,
   "id": "fdc106c0-ca26-4b2f-b23d-8390c9b7b13c",
   "metadata": {},
   "outputs": [],
   "source": []
  },
  {
   "cell_type": "code",
   "execution_count": null,
   "id": "f53ce238-97df-4988-aafe-02d78f9f6835",
   "metadata": {},
   "outputs": [],
   "source": []
  },
  {
   "cell_type": "code",
   "execution_count": null,
   "id": "b2d76595-f12e-4958-b2e4-c81b97a0b42b",
   "metadata": {},
   "outputs": [],
   "source": []
  },
  {
   "cell_type": "code",
   "execution_count": null,
   "id": "981f6926-d656-4531-82fa-3944062f8fa3",
   "metadata": {},
   "outputs": [],
   "source": []
  },
  {
   "cell_type": "code",
   "execution_count": null,
   "id": "ed7d2d38-be1c-4f28-9924-b6431a12cc59",
   "metadata": {},
   "outputs": [],
   "source": []
  },
  {
   "cell_type": "code",
   "execution_count": null,
   "id": "b45a5ec2-2758-4e7a-a025-5b89ffbc7443",
   "metadata": {},
   "outputs": [],
   "source": []
  },
  {
   "cell_type": "code",
   "execution_count": null,
   "id": "fcca9f66-9bc6-4935-9655-e6505e988d89",
   "metadata": {},
   "outputs": [],
   "source": []
  },
  {
   "cell_type": "code",
   "execution_count": null,
   "id": "a7b3b989-1746-4f51-beba-f54c63fdf55a",
   "metadata": {},
   "outputs": [],
   "source": []
  },
  {
   "cell_type": "code",
   "execution_count": null,
   "id": "57332d0f-6f02-405a-a748-38c9ccad0bc9",
   "metadata": {},
   "outputs": [],
   "source": []
  },
  {
   "cell_type": "code",
   "execution_count": null,
   "id": "3df65167-b8d8-486b-9bd9-1d569607836f",
   "metadata": {},
   "outputs": [],
   "source": []
  },
  {
   "cell_type": "code",
   "execution_count": null,
   "id": "0f2113ff-ce04-4bc0-bb6f-d0b9cd614381",
   "metadata": {},
   "outputs": [],
   "source": []
  }
 ],
 "metadata": {
  "kernelspec": {
   "display_name": "base_env",
   "language": "python",
   "name": "base_env"
  },
  "language_info": {
   "codemirror_mode": {
    "name": "ipython",
    "version": 3
   },
   "file_extension": ".py",
   "mimetype": "text/x-python",
   "name": "python",
   "nbconvert_exporter": "python",
   "pygments_lexer": "ipython3",
   "version": "3.11.5"
  }
 },
 "nbformat": 4,
 "nbformat_minor": 5
}
